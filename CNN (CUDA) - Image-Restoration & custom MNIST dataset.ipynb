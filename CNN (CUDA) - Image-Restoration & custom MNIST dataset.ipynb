{
  "cells": [
    {
      "cell_type": "markdown",
      "source": [
        "# CNN pytorch - advanced restauration, using custom dataset MNIST"
      ],
      "metadata": {
        "id": "EASkJxw5ajFn"
      }
    },
    {
      "cell_type": "code",
      "execution_count": 1,
      "metadata": {
        "id": "aaV30zzGTOAc"
      },
      "outputs": [],
      "source": [
        "import torch\n",
        "import pandas as pd\n",
        "import numpy as np\n",
        "from torch.utils.data import Dataset, DataLoader\n",
        "import matplotlib.pyplot as plt\n",
        "from IPython.core.debugger import set_trace"
      ]
    },
    {
      "cell_type": "code",
      "source": [
        "import sys\n",
        "print('__Python VERSION:', sys.version)\n",
        "print('__pyTorch VERSION:', torch.__version__)"
      ],
      "metadata": {
        "colab": {
          "base_uri": "https://localhost:8080/"
        },
        "id": "FYvapbT5Ifhz",
        "outputId": "52d14923-c345-4146-f2e8-4fa7dd2cddba"
      },
      "execution_count": 2,
      "outputs": [
        {
          "output_type": "stream",
          "name": "stdout",
          "text": [
            "__Python VERSION: 3.7.13 (default, Apr 24 2022, 01:04:09) \n",
            "[GCC 7.5.0]\n",
            "__pyTorch VERSION: 1.12.0+cu113\n"
          ]
        }
      ]
    },
    {
      "cell_type": "code",
      "source": [
        "device = torch.device('cpu')\n",
        "\n",
        "if torch.cuda.is_available():\n",
        "  print(\"Cuda is available.\")\n",
        "  device = torch.device('cuda:0')\n",
        "else:\n",
        "  print(\"Cuda is NOT available.\")"
      ],
      "metadata": {
        "colab": {
          "base_uri": "https://localhost:8080/"
        },
        "id": "fjDip1Cg3F3Z",
        "outputId": "900f8e3e-0e9e-45f4-8291-57b1fe9acd72"
      },
      "execution_count": 3,
      "outputs": [
        {
          "output_type": "stream",
          "name": "stdout",
          "text": [
            "Cuda is available.\n"
          ]
        }
      ]
    },
    {
      "cell_type": "markdown",
      "source": [
        "### If it EXISTS Get informaiton about CUDA version and Graphic Card"
      ],
      "metadata": {
        "id": "0nmyrXIEImpx"
      }
    },
    {
      "cell_type": "code",
      "source": [
        "if torch.cuda.is_available():\n",
        "    from subprocess import call\n",
        "    print('__CUDA VERSION', )\n",
        "    # call([\"nvcc\", \"--version\"]) does not work\n",
        "    ! nvcc --version\n",
        "    print('__CUDNN VERSION:', torch.backends.cudnn.version())\n",
        "    print('__Number CUDA Devices:', torch.cuda.device_count())\n",
        "    print('__Devices')\n",
        "    # call([\"nvidia-smi\", \"--format=csv\", \"--query-gpu=index,name,driver_version,memory.total,memory.used,memory.free\"])\n",
        "    print('Active CUDA Device: GPU', torch.cuda.current_device())\n",
        "    print ('Available devices ', torch.cuda.device_count())\n",
        "    print ('Current cuda device ', torch.cuda.current_device())"
      ],
      "metadata": {
        "colab": {
          "base_uri": "https://localhost:8080/"
        },
        "id": "piSVg9Fy5nYx",
        "outputId": "89e3d6ae-174e-4dc1-dd2e-9ddeef46990b"
      },
      "execution_count": 4,
      "outputs": [
        {
          "output_type": "stream",
          "name": "stdout",
          "text": [
            "__CUDA VERSION\n",
            "nvcc: NVIDIA (R) Cuda compiler driver\n",
            "Copyright (c) 2005-2020 NVIDIA Corporation\n",
            "Built on Mon_Oct_12_20:09:46_PDT_2020\n",
            "Cuda compilation tools, release 11.1, V11.1.105\n",
            "Build cuda_11.1.TC455_06.29190527_0\n",
            "__CUDNN VERSION: 8302\n",
            "__Number CUDA Devices: 1\n",
            "__Devices\n",
            "Active CUDA Device: GPU 0\n",
            "Available devices  1\n",
            "Current cuda device  0\n"
          ]
        }
      ]
    },
    {
      "cell_type": "code",
      "source": [
        "if torch.cuda.is_available():\n",
        "    #!pip install pycuda\n",
        "    import pycuda.driver as cuda\n",
        "\n",
        "    ## Get Id of default device\n",
        "    cuda.init()\n",
        "    idDevice = torch.cuda.current_device()\n",
        "    print(cuda.Device(idDevice).name()) # '0' is the id of your GPU"
      ],
      "metadata": {
        "colab": {
          "base_uri": "https://localhost:8080/"
        },
        "id": "znc-FV5U5NAQ",
        "outputId": "707ca735-ceb7-4c78-f0e1-d23bd1217dad"
      },
      "execution_count": 5,
      "outputs": [
        {
          "output_type": "stream",
          "name": "stdout",
          "text": [
            "Tesla T4\n"
          ]
        }
      ]
    },
    {
      "cell_type": "code",
      "execution_count": 6,
      "metadata": {
        "id": "G1McEi8-TOAd"
      },
      "outputs": [],
      "source": [
        "# https://discuss.pytorch.org/t/problem-in-building-my-own-mnist-custom-dataset/24080\n",
        "\n",
        "class NoisyMNIST(Dataset):\n",
        "    \n",
        "    def __init__(self, train):\n",
        "        \n",
        "            # Transform input in torch\n",
        "            if train:\n",
        "                xx = pd.read_csv('train.csv').values[:,1:] #[0:2,1:] for test\n",
        "                self.size = xx.shape[0]\n",
        "                self.y = torch.from_numpy(xx.reshape((self.size, 28, 28))).float().to(device)\n",
        "            else:\n",
        "                xx = pd.read_csv('test.csv').values\n",
        "                self.size = xx.shape[0]\n",
        "                self.y = torch.from_numpy(xx.reshape((self.size, 28, 28))).float().to(device)\n",
        "        \n",
        "            self.x = self.combine_img_noise()\n",
        "            \n",
        "            self.y = self.y.reshape((self.size, 28, 28))\n",
        "            self.x = self.x.reshape((self.size, 1, 28, 28))\n",
        "  \n",
        "\n",
        "    def combine_img_noise(self):\n",
        "\n",
        "        noise_add_img, noise_sub_img = self.create_noise()\n",
        "\n",
        "        # Add noise\n",
        "        x = self.y + noise_add_img\n",
        "        x = x - noise_sub_img\n",
        "        x[x > 255] = 255\n",
        "        x[x < 0] = 0\n",
        "        \n",
        "        return x\n",
        " \n",
        "\n",
        "    def create_noise(self):\n",
        "        \n",
        "        # Create strong noise\n",
        "        test = torch.randint(255, (self.size, 28, 28)).int().to(device)\n",
        "\n",
        "        # Modulate this noise with mask\n",
        "        mask = torch.randint(2, (self.size, 28, 28), dtype=torch.bool).int().to(device)\n",
        "        mask2 = torch.randint(2, (self.size, 28, 28), dtype=torch.bool).int().to(device)\n",
        "        mask3 = torch.randint(2, (self.size, 28, 28), dtype=torch.bool).int().to(device)\n",
        "\n",
        "        # Real noise\n",
        "        noise_add_img = test * mask * mask2\n",
        "        noise_sub_img = test * mask3 * mask\n",
        "        \n",
        "        return noise_add_img, noise_sub_img\n",
        "    \n",
        "    def __getitem__(self, index):\n",
        "        \n",
        "        return (self.x[index], self.y[index])\n",
        "    \n",
        "    def __len__(self):\n",
        "        \n",
        "        return self.size"
      ]
    },
    {
      "cell_type": "markdown",
      "metadata": {
        "id": "GWj-kZSzTOAg"
      },
      "source": [
        "### Hyperparameters"
      ]
    },
    {
      "cell_type": "code",
      "execution_count": 7,
      "metadata": {
        "id": "0H1yFmFcTOAi"
      },
      "outputs": [],
      "source": [
        "n_epochs = 2 #100\n",
        "\n",
        "batch_size_train = 64 # 2\n",
        "batch_size_test = 1000\n",
        "\n",
        "learning_rate = 0.01\n",
        "momentum = 0.5\n",
        "\n",
        "log_interval = 50\n",
        "\n",
        "random_seed = 1\n",
        "torch.backends.cudnn.enabled = False"
      ]
    },
    {
      "cell_type": "code",
      "execution_count": 8,
      "metadata": {
        "id": "EPbvYeb1TOAj"
      },
      "outputs": [],
      "source": [
        "# MNIST Dataset\n",
        "train_dataset = NoisyMNIST(train=True)\n",
        "train_loader = DataLoader(train_dataset, batch_size=batch_size_train, shuffle=True)\n",
        "\n",
        "test_dataset = NoisyMNIST(train=False)\n",
        "test_loader = DataLoader(train_dataset, batch_size=batch_size_test, shuffle=True)"
      ]
    },
    {
      "cell_type": "code",
      "execution_count": 9,
      "metadata": {
        "id": "OWrCczmMTOAk"
      },
      "outputs": [],
      "source": [
        "examples = enumerate(test_loader)\n",
        "batch_idx, (example_data, example_targets) = next(examples)"
      ]
    },
    {
      "cell_type": "code",
      "execution_count": 10,
      "metadata": {
        "colab": {
          "base_uri": "https://localhost:8080/"
        },
        "id": "tbL_OFEkTOAk",
        "outputId": "d925ce6d-4514-412d-cb2c-38b486cec47c"
      },
      "outputs": [
        {
          "output_type": "stream",
          "name": "stdout",
          "text": [
            "torch.Size([1000, 1, 28, 28])\n",
            "torch.Size([1000, 28, 28])\n"
          ]
        }
      ],
      "source": [
        "print(example_data.shape)\n",
        "print(example_targets.shape)"
      ]
    },
    {
      "cell_type": "code",
      "execution_count": 11,
      "metadata": {
        "colab": {
          "base_uri": "https://localhost:8080/",
          "height": 863
        },
        "id": "T5sUpw5OTOAn",
        "outputId": "37d226c1-d3ae-4997-8e12-6dbbd13fa3ee"
      },
      "outputs": [
        {
          "output_type": "display_data",
          "data": {
            "text/plain": [
              "<Figure size 1080x1080 with 6 Axes>"
            ],
            "image/png": "[encoded data removed]"
          },
          "metadata": {
            "needs_background": "light"
          }
        }
      ],
      "source": [
        "fig = plt.figure(figsize=(15,15))\n",
        "\n",
        "for i in range(1, 6, 2):\n",
        "    \n",
        "    plt.subplot(3, 2, i)\n",
        "    plt.imshow(example_data.cpu()[i][0], cmap=\"gray\", interpolation=\"none\")\n",
        "    \n",
        "    plt.subplot(3, 2, i+1)\n",
        "    plt.imshow(example_targets.cpu()[i], cmap=\"gray\", interpolation=\"none\")"
      ]
    },
    {
      "cell_type": "markdown",
      "metadata": {
        "id": "aB_Se4OrTOAo"
      },
      "source": [
        "## Building the Network"
      ]
    },
    {
      "cell_type": "code",
      "execution_count": 12,
      "metadata": {
        "id": "UKXTXpJ5TOAs"
      },
      "outputs": [],
      "source": [
        "import torch.nn as nn\n",
        "import torch.nn.functional as F\n",
        "import torch.optim as optim"
      ]
    },
    {
      "cell_type": "code",
      "execution_count": 13,
      "metadata": {
        "id": "CO3VmoRcTOAt"
      },
      "outputs": [],
      "source": [
        "# Note, how to output an image in CNN? A possible solution\n",
        "# https://www.mathworks.com/matlabcentral/answers/458769-how-to-train-cnn-with-an-image-in-the-input-and-an-image-in-the-output#answer_495784\n",
        "# https://phillipi.github.io/pix2pix/\n",
        "# https://machinelearningmastery.com/a-gentle-introduction-to-pix2pix-generative-adversarial-network/\n",
        "# https://machinelearningmastery.com/how-to-develop-a-pix2pix-gan-for-image-to-image-translation/\n",
        "\n",
        "class Net(nn.Module):\n",
        "    \n",
        "    def __init__(self):\n",
        "        super(Net, self).__init__()\n",
        "\n",
        "        self.leakyRELU = nn.LeakyReLU(0.1)\n",
        "        \n",
        "        self.conv1 = nn.Conv2d(1, 100, kernel_size=3, padding=1)\n",
        "        self.conv2 = nn.Conv2d(100, 150, kernel_size=3, padding=1)\n",
        "        self.conv3 = nn.Conv2d(150, 100, kernel_size=3, padding=1)\n",
        "        self.conv4 = nn.Conv2d(100, 50, kernel_size=3, padding=1)\n",
        "        self.conv5 = nn.Conv2d(50, 1, kernel_size=3, padding=1)\n",
        "\n",
        "    def forward(self, x):\n",
        "        x = self.leakyRELU(self.conv1(x))\n",
        "        x = self.leakyRELU(self.conv2(x))\n",
        "        x = self.leakyRELU(self.conv3(x))\n",
        "        x = self.leakyRELU(self.conv4(x))\n",
        "        x = F.relu(self.conv5(x))\n",
        "        \n",
        "        return x"
      ]
    },
    {
      "cell_type": "code",
      "execution_count": 14,
      "metadata": {
        "id": "-VeqXYqPTOAu"
      },
      "outputs": [],
      "source": [
        "network = Net()\n",
        "network.to(device)\n",
        "optimizer = optim.SGD(network.parameters(), lr=learning_rate, momentum=momentum, weight_decay=1e-4)"
      ]
    },
    {
      "cell_type": "markdown",
      "metadata": {
        "id": "XvZ6ocLsTOAu"
      },
      "source": [
        "## Training the Model"
      ]
    },
    {
      "cell_type": "code",
      "execution_count": 15,
      "metadata": {
        "id": "ziYnEXZ9TOAv"
      },
      "outputs": [],
      "source": [
        "train_losses = []\n",
        "train_counter = []\n",
        "test_losses = []\n",
        "test_counter = [i * len(train_loader.dataset) for i in range(1, n_epochs+1)]"
      ]
    },
    {
      "cell_type": "code",
      "execution_count": 16,
      "metadata": {
        "id": "JwSuRILbTOAw"
      },
      "outputs": [],
      "source": [
        "# https://stackoverflow.com/questions/54716377/how-to-do-gradient-clipping-in-pytorch\n",
        "# https://machinelearningmastery.com/how-to-avoid-exploding-gradients-in-neural-networks-with-gradient-clipping/\n",
        "def train(epoch):\n",
        "    network.train()\n",
        "    \n",
        "    for batch_idx, (data, target) in enumerate(train_loader):\n",
        " \n",
        "        optimizer.zero_grad()\n",
        "        output = network(data)\n",
        "        \n",
        "        loss = F.mse_loss(torch.flatten(output, 0), torch.flatten(target, 0), reduction=\"mean\")\n",
        "        loss.backward()\n",
        "        \n",
        "        clipping_value = 2 # arbitrary value of your choosing\n",
        "        torch.nn.utils.clip_grad_norm_(network.parameters(), clipping_value)\n",
        "        \n",
        "        optimizer.step()\n",
        "        \n",
        "        if batch_idx % log_interval == 0:\n",
        "\n",
        "            # Uncomment if you want to see the output image during the training\n",
        "            #plt.imshow(output.cpu()[1][0].detach(), cmap=\"gray\", interpolation=\"none\")\n",
        "            #plt.show()\n",
        "            #set_trace()\n",
        "\n",
        "            print(f\"Train Epoch: {epoch} [{batch_idx * len(data)}/{len(train_loader.dataset)} ({(100.0 * batch_idx / len(train_loader)):.0f}%)]\\t Loss: {loss.item():.6f}\")\n",
        "            train_losses.append(loss.item())\n",
        "            train_counter.append((batch_idx*64) + ((epoch-1) * len(train_loader.dataset)))\n",
        "            torch.save(network.state_dict(), \"files/models/model2.pth\")\n",
        "            torch.save(optimizer.state_dict(), \"files/models/optimizer2.pth\")"
      ]
    },
    {
      "cell_type": "code",
      "execution_count": 17,
      "metadata": {
        "id": "BQULNe1ATOAx"
      },
      "outputs": [],
      "source": [
        "# https://stats.stackexchange.com/questions/352036/what-should-i-do-when-my-neural-network-doesnt-learn\n",
        "def test():\n",
        "    network.eval()\n",
        "    \n",
        "    test_loss = 0\n",
        "    with torch.no_grad():\n",
        "        for data, target in test_loader:\n",
        "            output = network(data)\n",
        "           \n",
        "            test_loss += F.mse_loss(torch.flatten(output, 0), \n",
        "                                    torch.flatten(target, 0), \n",
        "                                    reduction=\"mean\").item()\n",
        "            \n",
        "        test_loss /= len(test_loader.dataset) / batch_size_test\n",
        "        test_losses.append(test_loss)\n",
        "        print(f\"\\nTest set: Avg. loss: {test_loss:.4f}\\n\")              "
      ]
    },
    {
      "cell_type": "code",
      "execution_count": 18,
      "metadata": {
        "scrolled": false,
        "colab": {
          "base_uri": "https://localhost:8080/"
        },
        "id": "Eo7Mhb5jTOAx",
        "outputId": "d0d661c3-7f79-4ab4-b52b-15f9769521ee"
      },
      "outputs": [
        {
          "output_type": "stream",
          "name": "stdout",
          "text": [
            "Train Epoch: 1 [0/42000 (0%)]\t Loss: 7491.798340\n",
            "Train Epoch: 1 [3200/42000 (8%)]\t Loss: 655.129395\n",
            "Train Epoch: 1 [6400/42000 (15%)]\t Loss: 562.206421\n",
            "Train Epoch: 1 [9600/42000 (23%)]\t Loss: 522.915649\n",
            "Train Epoch: 1 [12800/42000 (30%)]\t Loss: 519.365051\n",
            "Train Epoch: 1 [16000/42000 (38%)]\t Loss: 488.880249\n",
            "Train Epoch: 1 [19200/42000 (46%)]\t Loss: 451.178558\n",
            "Train Epoch: 1 [22400/42000 (53%)]\t Loss: 425.708984\n",
            "Train Epoch: 1 [25600/42000 (61%)]\t Loss: 431.510406\n",
            "Train Epoch: 1 [28800/42000 (68%)]\t Loss: 402.630615\n",
            "Train Epoch: 1 [32000/42000 (76%)]\t Loss: 379.329620\n",
            "Train Epoch: 1 [35200/42000 (84%)]\t Loss: 395.101227\n",
            "Train Epoch: 1 [38400/42000 (91%)]\t Loss: 368.671722\n",
            "Train Epoch: 1 [41600/42000 (99%)]\t Loss: 344.194153\n",
            "\n",
            "Test set: Avg. loss: 372.1559\n",
            "\n",
            "Train Epoch: 2 [0/42000 (0%)]\t Loss: 375.926422\n",
            "Train Epoch: 2 [3200/42000 (8%)]\t Loss: 346.798309\n",
            "Train Epoch: 2 [6400/42000 (15%)]\t Loss: 322.827515\n",
            "Train Epoch: 2 [9600/42000 (23%)]\t Loss: 344.545349\n",
            "Train Epoch: 2 [12800/42000 (30%)]\t Loss: 338.402863\n",
            "Train Epoch: 2 [16000/42000 (38%)]\t Loss: 349.890869\n",
            "Train Epoch: 2 [19200/42000 (46%)]\t Loss: 343.553925\n",
            "Train Epoch: 2 [22400/42000 (53%)]\t Loss: 345.002350\n",
            "Train Epoch: 2 [25600/42000 (61%)]\t Loss: 336.249786\n",
            "Train Epoch: 2 [28800/42000 (68%)]\t Loss: 350.554352\n",
            "Train Epoch: 2 [32000/42000 (76%)]\t Loss: 313.289764\n",
            "Train Epoch: 2 [35200/42000 (84%)]\t Loss: 354.782410\n",
            "Train Epoch: 2 [38400/42000 (91%)]\t Loss: 315.320099\n",
            "Train Epoch: 2 [41600/42000 (99%)]\t Loss: 326.218475\n",
            "\n",
            "Test set: Avg. loss: 311.0323\n",
            "\n"
          ]
        }
      ],
      "source": [
        "for epoch in range(1, n_epochs + 1):\n",
        "    train(epoch)\n",
        "    test()"
      ]
    },
    {
      "cell_type": "code",
      "execution_count": 19,
      "metadata": {
        "id": "e7GOdr-mTOAy",
        "colab": {
          "base_uri": "https://localhost:8080/",
          "height": 296
        },
        "outputId": "3e84a16d-b274-4503-f4c3-fb0557ac003e"
      },
      "outputs": [
        {
          "output_type": "execute_result",
          "data": {
            "text/plain": [
              "Text(0, 0.5, 'MSE loss')"
            ]
          },
          "metadata": {},
          "execution_count": 19
        },
        {
          "output_type": "display_data",
          "data": {
            "text/plain": [
              "<Figure size 432x288 with 1 Axes>"
            ],
            "image/png": "[encoded data removed]"
          },
          "metadata": {
            "needs_background": "light"
          }
        }
      ],
      "source": [
        "fig = plt.figure()\n",
        "plt.plot(train_counter, train_losses, color=\"blue\")\n",
        "plt.scatter(test_counter, test_losses, color=\"red\")\n",
        "plt.legend([\"Train Loss\", \"Test Loss\"], loc=\"upper right\")\n",
        "plt.xlabel(\"Number of training examples seen\")\n",
        "plt.ylabel(\"MSE loss\")"
      ]
    },
    {
      "cell_type": "code",
      "execution_count": 20,
      "metadata": {
        "id": "YkLJjBGjTOAy",
        "colab": {
          "base_uri": "https://localhost:8080/",
          "height": 1000
        },
        "outputId": "8e38f0f3-e99b-4ee9-f81d-43cfbdf11c0f"
      },
      "outputs": [
        {
          "output_type": "display_data",
          "data": {
            "text/plain": [
              "<Figure size 1080x1440 with 15 Axes>"
            ],
            "image/png": "[encoded data removed]"
          },
          "metadata": {
            "needs_background": "light"
          }
        }
      ],
      "source": [
        "fig = plt.figure(figsize=(15,20))\n",
        "\n",
        "with torch.no_grad():\n",
        "    for i in range(1, 15, 3):\n",
        "\n",
        "        output = network(example_data[i])\n",
        "\n",
        "        plt.subplot(5, 3, i)\n",
        "        plt.imshow(example_data.cpu()[i][0], cmap=\"gray\", interpolation=\"none\")\n",
        "\n",
        "        plt.subplot(5, 3, i+1)\n",
        "        plt.imshow(output.cpu()[0].detach(), cmap=\"gray\", interpolation=\"none\")\n",
        "\n",
        "        plt.subplot(5, 3, i+2)\n",
        "        plt.imshow(example_targets.cpu()[i], cmap=\"gray\", interpolation=\"none\")"
      ]
    }
  ],
  "metadata": {
    "kernelspec": {
      "display_name": "Python 3.8.5 ('venv': venv)",
      "language": "python",
      "name": "python3"
    },
    "language_info": {
      "codemirror_mode": {
        "name": "ipython",
        "version": 3
      },
      "file_extension": ".py",
      "mimetype": "text/x-python",
      "name": "python",
      "nbconvert_exporter": "python",
      "pygments_lexer": "ipython3",
      "version": "3.8.5"
    },
    "vscode": {
      "interpreter": {
        "hash": "e344bc59424e86cafce1ee99269fd41d32fd280c4eb64f401b144ae9075f4897"
      }
    },
    "colab": {
      "name": "0. CNN pytorch - advanced restauration, using custom dataset MNIST.ipynb",
      "provenance": [],
      "collapsed_sections": []
    },
    "gpuClass": "standard",
    "accelerator": "GPU"
  },
  "nbformat": 4,
  "nbformat_minor": 0
}